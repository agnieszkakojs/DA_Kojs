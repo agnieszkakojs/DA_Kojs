{
 "cells": [
  {
   "attachments": {},
   "cell_type": "markdown",
   "metadata": {},
   "source": [
    "## Lab 6 - Model comparison"
   ]
  },
  {
   "cell_type": "code",
   "execution_count": 1,
   "metadata": {},
   "outputs": [
    {
     "name": "stderr",
     "output_type": "stream",
     "text": [
      "/usr/local/lib/python3.9/site-packages/tqdm/auto.py:22: TqdmWarning: IProgress not found. Please update jupyter and ipywidgets. See https://ipywidgets.readthedocs.io/en/stable/user_install.html\n",
      "  from .autonotebook import tqdm as notebook_tqdm\n"
     ]
    }
   ],
   "source": [
    "from cmdstanpy import CmdStanModel\n",
    "\n",
    "\n",
    "import arviz as az\n",
    "import numpy as np\n",
    "import scipy.stats as stats\n",
    "\n",
    "import matplotlib.pyplot as plt\n",
    "import pandas as pd\n",
    "import seaborn as sns"
   ]
  },
  {
   "attachments": {},
   "cell_type": "markdown",
   "metadata": {},
   "source": [
    "### Excercise 1 - generate data"
   ]
  },
  {
   "cell_type": "code",
   "execution_count": 2,
   "metadata": {},
   "outputs": [],
   "source": [
    "F = len(\"Agnieszka\")\n",
    "L = len(\"Kojs\")\n",
    "N = (L+F)*100"
   ]
  },
  {
   "cell_type": "code",
   "execution_count": 3,
   "metadata": {},
   "outputs": [
    {
     "name": "stderr",
     "output_type": "stream",
     "text": [
      "INFO:cmdstanpy:found newer exe file, not recompiling\n"
     ]
    }
   ],
   "source": [
    "gen_quant1 = CmdStanModel(stan_file='code_1.stan')"
   ]
  },
  {
   "cell_type": "code",
   "execution_count": 4,
   "metadata": {},
   "outputs": [
    {
     "name": "stderr",
     "output_type": "stream",
     "text": [
      "INFO:cmdstanpy:CmdStan start processing\n",
      "chain 1 |\u001b[34m██████████\u001b[0m| 00:00 Sampling completed"
     ]
    },
    {
     "name": "stdout",
     "output_type": "stream",
     "text": [
      "                                                                                "
     ]
    },
    {
     "name": "stderr",
     "output_type": "stream",
     "text": [
      "\n",
      "INFO:cmdstanpy:CmdStan done processing.\n"
     ]
    },
    {
     "name": "stdout",
     "output_type": "stream",
     "text": [
      "\n"
     ]
    }
   ],
   "source": [
    "samples1 = gen_quant1.sample(data={'N':N}, \n",
    "                            fixed_param=True, \n",
    "                            iter_sampling=1, \n",
    "                            iter_warmup=0, \n",
    "                            chains = 1)"
   ]
  },
  {
   "cell_type": "code",
   "execution_count": 5,
   "metadata": {},
   "outputs": [
    {
     "data": {
      "text/html": [
       "<div>\n",
       "<style scoped>\n",
       "    .dataframe tbody tr th:only-of-type {\n",
       "        vertical-align: middle;\n",
       "    }\n",
       "\n",
       "    .dataframe tbody tr th {\n",
       "        vertical-align: top;\n",
       "    }\n",
       "\n",
       "    .dataframe thead th {\n",
       "        text-align: right;\n",
       "    }\n",
       "</style>\n",
       "<table border=\"1\" class=\"dataframe\">\n",
       "  <thead>\n",
       "    <tr style=\"text-align: right;\">\n",
       "      <th></th>\n",
       "      <th>lp__</th>\n",
       "      <th>accept_stat__</th>\n",
       "      <th>theta</th>\n",
       "      <th>y[1]</th>\n",
       "      <th>y[2]</th>\n",
       "      <th>y[3]</th>\n",
       "      <th>y[4]</th>\n",
       "      <th>y[5]</th>\n",
       "      <th>y[6]</th>\n",
       "      <th>y[7]</th>\n",
       "      <th>...</th>\n",
       "      <th>y[1291]</th>\n",
       "      <th>y[1292]</th>\n",
       "      <th>y[1293]</th>\n",
       "      <th>y[1294]</th>\n",
       "      <th>y[1295]</th>\n",
       "      <th>y[1296]</th>\n",
       "      <th>y[1297]</th>\n",
       "      <th>y[1298]</th>\n",
       "      <th>y[1299]</th>\n",
       "      <th>y[1300]</th>\n",
       "    </tr>\n",
       "  </thead>\n",
       "  <tbody>\n",
       "    <tr>\n",
       "      <th>0</th>\n",
       "      <td>0.0</td>\n",
       "      <td>0.0</td>\n",
       "      <td>0.01</td>\n",
       "      <td>0.659195</td>\n",
       "      <td>-2.06253</td>\n",
       "      <td>0.34185</td>\n",
       "      <td>0.556113</td>\n",
       "      <td>1.40897</td>\n",
       "      <td>1.48041</td>\n",
       "      <td>-0.728814</td>\n",
       "      <td>...</td>\n",
       "      <td>1.33337</td>\n",
       "      <td>-0.240439</td>\n",
       "      <td>-0.008007</td>\n",
       "      <td>-1.6958</td>\n",
       "      <td>-1.64295</td>\n",
       "      <td>0.213852</td>\n",
       "      <td>0.703792</td>\n",
       "      <td>-0.972546</td>\n",
       "      <td>1.18799</td>\n",
       "      <td>-1.71259</td>\n",
       "    </tr>\n",
       "  </tbody>\n",
       "</table>\n",
       "<p>1 rows × 1303 columns</p>\n",
       "</div>"
      ],
      "text/plain": [
       "   lp__  accept_stat__  theta      y[1]     y[2]     y[3]      y[4]     y[5]  \\\n",
       "0   0.0            0.0   0.01  0.659195 -2.06253  0.34185  0.556113  1.40897   \n",
       "\n",
       "      y[6]      y[7]  ...  y[1291]   y[1292]   y[1293]  y[1294]  y[1295]  \\\n",
       "0  1.48041 -0.728814  ...  1.33337 -0.240439 -0.008007  -1.6958 -1.64295   \n",
       "\n",
       "    y[1296]   y[1297]   y[1298]  y[1299]  y[1300]  \n",
       "0  0.213852  0.703792 -0.972546  1.18799 -1.71259  \n",
       "\n",
       "[1 rows x 1303 columns]"
      ]
     },
     "execution_count": 5,
     "metadata": {},
     "output_type": "execute_result"
    }
   ],
   "source": [
    "samples_df1 = samples1.draws_pd()\n",
    "samples_df1"
   ]
  },
  {
   "cell_type": "code",
   "execution_count": 6,
   "metadata": {},
   "outputs": [
    {
     "data": {
      "text/plain": [
       "y[1]       0.659195\n",
       "y[2]      -2.062530\n",
       "y[3]       0.341850\n",
       "y[4]       0.556113\n",
       "y[5]       1.408970\n",
       "             ...   \n",
       "y[1296]    0.213852\n",
       "y[1297]    0.703792\n",
       "y[1298]   -0.972546\n",
       "y[1299]    1.187990\n",
       "y[1300]   -1.712590\n",
       "Name: 0, Length: 1300, dtype: float64"
      ]
     },
     "execution_count": 6,
     "metadata": {},
     "output_type": "execute_result"
    }
   ],
   "source": [
    "# Generation of data\n",
    "y1_sample = samples_df1.iloc[0][3:]\n",
    "y1_sample"
   ]
  },
  {
   "cell_type": "code",
   "execution_count": 7,
   "metadata": {},
   "outputs": [
    {
     "name": "stderr",
     "output_type": "stream",
     "text": [
      "INFO:cmdstanpy:found newer exe file, not recompiling\n"
     ]
    }
   ],
   "source": [
    "gen_quant2 = CmdStanModel(stan_file='code_2.stan')"
   ]
  },
  {
   "cell_type": "code",
   "execution_count": 8,
   "metadata": {},
   "outputs": [
    {
     "name": "stderr",
     "output_type": "stream",
     "text": [
      "INFO:cmdstanpy:CmdStan start processing\n",
      "chain 1 |\u001b[34m██████████\u001b[0m| 00:00 Sampling completed"
     ]
    },
    {
     "name": "stdout",
     "output_type": "stream",
     "text": [
      "                                                                                "
     ]
    },
    {
     "name": "stderr",
     "output_type": "stream",
     "text": [
      "\n",
      "INFO:cmdstanpy:CmdStan done processing.\n"
     ]
    },
    {
     "name": "stdout",
     "output_type": "stream",
     "text": [
      "\n"
     ]
    }
   ],
   "source": [
    "samples2 = gen_quant2.sample(data={'N':N}, \n",
    "                            fixed_param=True, \n",
    "                            iter_sampling=1, \n",
    "                            iter_warmup=0, \n",
    "                            chains = 1)"
   ]
  },
  {
   "cell_type": "code",
   "execution_count": 9,
   "metadata": {},
   "outputs": [
    {
     "data": {
      "text/html": [
       "<div>\n",
       "<style scoped>\n",
       "    .dataframe tbody tr th:only-of-type {\n",
       "        vertical-align: middle;\n",
       "    }\n",
       "\n",
       "    .dataframe tbody tr th {\n",
       "        vertical-align: top;\n",
       "    }\n",
       "\n",
       "    .dataframe thead th {\n",
       "        text-align: right;\n",
       "    }\n",
       "</style>\n",
       "<table border=\"1\" class=\"dataframe\">\n",
       "  <thead>\n",
       "    <tr style=\"text-align: right;\">\n",
       "      <th></th>\n",
       "      <th>lp__</th>\n",
       "      <th>accept_stat__</th>\n",
       "      <th>X[1,1]</th>\n",
       "      <th>X[2,1]</th>\n",
       "      <th>X[3,1]</th>\n",
       "      <th>X[4,1]</th>\n",
       "      <th>X[5,1]</th>\n",
       "      <th>X[6,1]</th>\n",
       "      <th>X[7,1]</th>\n",
       "      <th>X[8,1]</th>\n",
       "      <th>...</th>\n",
       "      <th>y[1291]</th>\n",
       "      <th>y[1292]</th>\n",
       "      <th>y[1293]</th>\n",
       "      <th>y[1294]</th>\n",
       "      <th>y[1295]</th>\n",
       "      <th>y[1296]</th>\n",
       "      <th>y[1297]</th>\n",
       "      <th>y[1298]</th>\n",
       "      <th>y[1299]</th>\n",
       "      <th>y[1300]</th>\n",
       "    </tr>\n",
       "  </thead>\n",
       "  <tbody>\n",
       "    <tr>\n",
       "      <th>0</th>\n",
       "      <td>0.0</td>\n",
       "      <td>0.0</td>\n",
       "      <td>0.097229</td>\n",
       "      <td>-0.003449</td>\n",
       "      <td>0.424695</td>\n",
       "      <td>-1.41868</td>\n",
       "      <td>1.16106</td>\n",
       "      <td>0.214122</td>\n",
       "      <td>0.367582</td>\n",
       "      <td>0.962505</td>\n",
       "      <td>...</td>\n",
       "      <td>-3.92568</td>\n",
       "      <td>-1.08111</td>\n",
       "      <td>3.27457</td>\n",
       "      <td>0.347881</td>\n",
       "      <td>1.65311</td>\n",
       "      <td>-4.39183</td>\n",
       "      <td>0.890055</td>\n",
       "      <td>-0.740453</td>\n",
       "      <td>2.13262</td>\n",
       "      <td>-2.7608</td>\n",
       "    </tr>\n",
       "  </tbody>\n",
       "</table>\n",
       "<p>1 rows × 5205 columns</p>\n",
       "</div>"
      ],
      "text/plain": [
       "   lp__  accept_stat__    X[1,1]    X[2,1]    X[3,1]   X[4,1]   X[5,1]  \\\n",
       "0   0.0            0.0  0.097229 -0.003449  0.424695 -1.41868  1.16106   \n",
       "\n",
       "     X[6,1]    X[7,1]    X[8,1]  ...  y[1291]  y[1292]  y[1293]   y[1294]  \\\n",
       "0  0.214122  0.367582  0.962505  ... -3.92568 -1.08111  3.27457  0.347881   \n",
       "\n",
       "   y[1295]  y[1296]   y[1297]   y[1298]  y[1299]  y[1300]  \n",
       "0  1.65311 -4.39183  0.890055 -0.740453  2.13262  -2.7608  \n",
       "\n",
       "[1 rows x 5205 columns]"
      ]
     },
     "execution_count": 9,
     "metadata": {},
     "output_type": "execute_result"
    }
   ],
   "source": [
    "samples_df2 = samples2.draws_pd()\n",
    "samples_df2"
   ]
  },
  {
   "cell_type": "code",
   "execution_count": 10,
   "metadata": {},
   "outputs": [
    {
     "data": {
      "text/plain": [
       "y[1]       0.266908\n",
       "y[2]      -1.174270\n",
       "y[3]      -0.840099\n",
       "y[4]      -2.900420\n",
       "y[5]       4.096350\n",
       "             ...   \n",
       "y[1296]   -4.391830\n",
       "y[1297]    0.890055\n",
       "y[1298]   -0.740453\n",
       "y[1299]    2.132620\n",
       "y[1300]   -2.760800\n",
       "Name: 0, Length: 1300, dtype: float64"
      ]
     },
     "execution_count": 10,
     "metadata": {},
     "output_type": "execute_result"
    }
   ],
   "source": [
    "# Generation of data\n",
    "y2_sample = samples_df2.iloc[0][-1300:]\n",
    "y2_sample"
   ]
  },
  {
   "cell_type": "code",
   "execution_count": 11,
   "metadata": {},
   "outputs": [],
   "source": [
    "X_1_be = samples_df2.iloc[0][2:1302].array\n",
    "X_1 = X_1_be.reshape(1300,1)"
   ]
  },
  {
   "cell_type": "code",
   "execution_count": 12,
   "metadata": {},
   "outputs": [
    {
     "data": {
      "text/plain": [
       "X[1,2]       0.582150\n",
       "X[2,2]      -0.767182\n",
       "X[3,2]       0.575602\n",
       "X[4,2]      -0.807757\n",
       "X[5,2]       1.545710\n",
       "               ...   \n",
       "X[1296,2]    0.870620\n",
       "X[1297,2]    1.418410\n",
       "X[1298,2]   -0.513232\n",
       "X[1299,2]    1.079820\n",
       "X[1300,2]   -1.256340\n",
       "Name: 0, Length: 1300, dtype: float64"
      ]
     },
     "execution_count": 12,
     "metadata": {},
     "output_type": "execute_result"
    }
   ],
   "source": [
    "X_2 = samples_df2.iloc[0][1302:2602]\n",
    "X_2"
   ]
  },
  {
   "cell_type": "code",
   "execution_count": 13,
   "metadata": {},
   "outputs": [
    {
     "data": {
      "text/plain": [
       "X[1,3]      -0.000870\n",
       "X[2,3]       1.280870\n",
       "X[3,3]      -0.756223\n",
       "X[4,3]       1.596260\n",
       "X[5,3]       0.159070\n",
       "               ...   \n",
       "X[1296,3]   -0.036463\n",
       "X[1297,3]    0.362996\n",
       "X[1298,3]   -1.325360\n",
       "X[1299,3]    2.297560\n",
       "X[1300,3]    0.365491\n",
       "Name: 0, Length: 1300, dtype: float64"
      ]
     },
     "execution_count": 13,
     "metadata": {},
     "output_type": "execute_result"
    }
   ],
   "source": [
    "X_3 = samples_df2.iloc[0][2602:3902]\n",
    "X_3"
   ]
  },
  {
   "cell_type": "code",
   "execution_count": 14,
   "metadata": {},
   "outputs": [
    {
     "data": {
      "text/plain": [
       "array([[ 0.0972294 , -0.00344931],\n",
       "       [ 0.424695  , -1.41868   ],\n",
       "       [ 1.16106   ,  0.214122  ],\n",
       "       ...,\n",
       "       [ 0.473725  ,  0.87062   ],\n",
       "       [ 1.41841   , -0.513232  ],\n",
       "       [ 1.07982   , -1.25634   ]])"
      ]
     },
     "execution_count": 14,
     "metadata": {},
     "output_type": "execute_result"
    }
   ],
   "source": [
    "X_2_matrix = np.vstack((X_1_be, X_2)).reshape(1300, 2)\n",
    "X_2_matrix"
   ]
  },
  {
   "cell_type": "code",
   "execution_count": 15,
   "metadata": {},
   "outputs": [
    {
     "data": {
      "text/plain": [
       "array([[ 9.72294e-02,  5.82150e-01, -8.69526e-04],\n",
       "       [-3.44931e-03, -7.67182e-01,  1.28087e+00],\n",
       "       [ 4.24695e-01,  5.75602e-01, -7.56223e-01],\n",
       "       ...,\n",
       "       [-8.48210e-02, -5.13232e-01, -1.32536e+00],\n",
       "       [-3.28479e-01,  1.07982e+00,  2.29756e+00],\n",
       "       [-3.29649e-01, -1.25634e+00,  3.65491e-01]])"
      ]
     },
     "execution_count": 15,
     "metadata": {},
     "output_type": "execute_result"
    }
   ],
   "source": [
    "X_3_matrix = np.transpose(np.vstack((X_1_be, X_2, X_3)))\n",
    "X_3_matrix"
   ]
  },
  {
   "attachments": {},
   "cell_type": "markdown",
   "metadata": {},
   "source": [
    "### Excercise 2 - compare normal and student models for data from first file"
   ]
  },
  {
   "cell_type": "code",
   "execution_count": 16,
   "metadata": {},
   "outputs": [
    {
     "name": "stderr",
     "output_type": "stream",
     "text": [
      "INFO:cmdstanpy:found newer exe file, not recompiling\n"
     ]
    }
   ],
   "source": [
    "model_1 = CmdStanModel(stan_file='code_3.stan')"
   ]
  },
  {
   "cell_type": "code",
   "execution_count": 17,
   "metadata": {},
   "outputs": [
    {
     "name": "stderr",
     "output_type": "stream",
     "text": [
      "INFO:cmdstanpy:CmdStan start processing\n",
      "chain 1 |\u001b[33m          \u001b[0m| 00:00 Status\n",
      "\u001b[A\n",
      "\n",
      "chain 1 |\u001b[33m▍         \u001b[0m| 00:00 Status\n",
      "\n",
      "\u001b[A\u001b[A\n",
      "chain 1 |\u001b[33m██▋       \u001b[0m| 00:00 Iteration:  400 / 2000 [ 20%]  (Warmup)\n",
      "\n",
      "\u001b[A\u001b[A\n",
      "\u001b[A\n",
      "chain 1 |\u001b[33m█████     \u001b[0m| 00:00 Iteration:  900 / 2000 [ 45%]  (Warmup)\n",
      "\n",
      "\u001b[A\u001b[A\n",
      "chain 1 |\u001b[34m██████▊   \u001b[0m| 00:01 Iteration: 1200 / 2000 [ 60%]  (Sampling)\n",
      "\u001b[A\n",
      "\u001b[A\n",
      "\n",
      "\u001b[A\u001b[A\n",
      "chain 1 |\u001b[34m████████▏ \u001b[0m| 00:02 Iteration: 1500 / 2000 [ 75%]  (Sampling)\n",
      "chain 1 |\u001b[34m█████████ \u001b[0m| 00:03 Iteration: 1700 / 2000 [ 85%]  (Sampling)\n",
      "\u001b[A\n",
      "\n",
      "\u001b[A\u001b[A\n",
      "chain 1 |\u001b[34m██████████\u001b[0m| 00:04 Iteration: 1900 / 2000 [ 95%]  (Sampling)\n",
      "\u001b[A\n",
      "\n",
      "chain 1 |\u001b[34m██████████\u001b[0m| 00:04 Sampling completed                       \n",
      "chain 2 |\u001b[34m██████████\u001b[0m| 00:04 Sampling completed                       \n",
      "chain 3 |\u001b[34m██████████\u001b[0m| 00:04 Sampling completed                       \n",
      "chain 4 |\u001b[34m██████████\u001b[0m| 00:04 Sampling completed                       "
     ]
    },
    {
     "name": "stdout",
     "output_type": "stream",
     "text": [
      "                                                                                                                                                                                                                                                                                                                                "
     ]
    },
    {
     "name": "stderr",
     "output_type": "stream",
     "text": [
      "\n",
      "INFO:cmdstanpy:CmdStan done processing.\n"
     ]
    },
    {
     "name": "stdout",
     "output_type": "stream",
     "text": [
      "\n"
     ]
    }
   ],
   "source": [
    "samp_model1 = model_1.sample(data={'N': N, 'y': y1_sample})"
   ]
  },
  {
   "cell_type": "code",
   "execution_count": 18,
   "metadata": {},
   "outputs": [
    {
     "data": {
      "text/html": [
       "<div>\n",
       "<style scoped>\n",
       "    .dataframe tbody tr th:only-of-type {\n",
       "        vertical-align: middle;\n",
       "    }\n",
       "\n",
       "    .dataframe tbody tr th {\n",
       "        vertical-align: top;\n",
       "    }\n",
       "\n",
       "    .dataframe thead th {\n",
       "        text-align: right;\n",
       "    }\n",
       "</style>\n",
       "<table border=\"1\" class=\"dataframe\">\n",
       "  <thead>\n",
       "    <tr style=\"text-align: right;\">\n",
       "      <th></th>\n",
       "      <th>lp__</th>\n",
       "      <th>accept_stat__</th>\n",
       "      <th>stepsize__</th>\n",
       "      <th>treedepth__</th>\n",
       "      <th>n_leapfrog__</th>\n",
       "      <th>divergent__</th>\n",
       "      <th>energy__</th>\n",
       "      <th>sigma</th>\n",
       "      <th>mu</th>\n",
       "      <th>log_lik[1]</th>\n",
       "      <th>...</th>\n",
       "      <th>y_hat[1291]</th>\n",
       "      <th>y_hat[1292]</th>\n",
       "      <th>y_hat[1293]</th>\n",
       "      <th>y_hat[1294]</th>\n",
       "      <th>y_hat[1295]</th>\n",
       "      <th>y_hat[1296]</th>\n",
       "      <th>y_hat[1297]</th>\n",
       "      <th>y_hat[1298]</th>\n",
       "      <th>y_hat[1299]</th>\n",
       "      <th>y_hat[1300]</th>\n",
       "    </tr>\n",
       "  </thead>\n",
       "  <tbody>\n",
       "    <tr>\n",
       "      <th>0</th>\n",
       "      <td>-2684.41</td>\n",
       "      <td>0.808340</td>\n",
       "      <td>0.871671</td>\n",
       "      <td>1.0</td>\n",
       "      <td>3.0</td>\n",
       "      <td>0.0</td>\n",
       "      <td>2688.00</td>\n",
       "      <td>1.93829</td>\n",
       "      <td>0.221400</td>\n",
       "      <td>-1.60625</td>\n",
       "      <td>...</td>\n",
       "      <td>-1.073850</td>\n",
       "      <td>1.259880</td>\n",
       "      <td>-1.483450</td>\n",
       "      <td>2.682230</td>\n",
       "      <td>-0.836429</td>\n",
       "      <td>1.199940</td>\n",
       "      <td>2.568180</td>\n",
       "      <td>-4.151640</td>\n",
       "      <td>-0.370971</td>\n",
       "      <td>1.277450</td>\n",
       "    </tr>\n",
       "    <tr>\n",
       "      <th>1</th>\n",
       "      <td>-2685.05</td>\n",
       "      <td>0.921564</td>\n",
       "      <td>0.871671</td>\n",
       "      <td>2.0</td>\n",
       "      <td>3.0</td>\n",
       "      <td>0.0</td>\n",
       "      <td>2685.54</td>\n",
       "      <td>1.90828</td>\n",
       "      <td>0.269653</td>\n",
       "      <td>-1.58598</td>\n",
       "      <td>...</td>\n",
       "      <td>0.080723</td>\n",
       "      <td>-0.181961</td>\n",
       "      <td>0.466915</td>\n",
       "      <td>2.414150</td>\n",
       "      <td>1.936940</td>\n",
       "      <td>-1.628440</td>\n",
       "      <td>0.262831</td>\n",
       "      <td>0.133514</td>\n",
       "      <td>-0.126505</td>\n",
       "      <td>-0.654828</td>\n",
       "    </tr>\n",
       "    <tr>\n",
       "      <th>2</th>\n",
       "      <td>-2684.06</td>\n",
       "      <td>0.758794</td>\n",
       "      <td>0.871671</td>\n",
       "      <td>2.0</td>\n",
       "      <td>3.0</td>\n",
       "      <td>0.0</td>\n",
       "      <td>2687.94</td>\n",
       "      <td>1.93029</td>\n",
       "      <td>0.191501</td>\n",
       "      <td>-1.60596</td>\n",
       "      <td>...</td>\n",
       "      <td>0.132234</td>\n",
       "      <td>0.409598</td>\n",
       "      <td>0.555319</td>\n",
       "      <td>-1.236130</td>\n",
       "      <td>-0.939522</td>\n",
       "      <td>-1.104400</td>\n",
       "      <td>-0.855172</td>\n",
       "      <td>0.179841</td>\n",
       "      <td>2.353310</td>\n",
       "      <td>-2.078170</td>\n",
       "    </tr>\n",
       "    <tr>\n",
       "      <th>3</th>\n",
       "      <td>-2684.35</td>\n",
       "      <td>0.906174</td>\n",
       "      <td>0.871671</td>\n",
       "      <td>2.0</td>\n",
       "      <td>3.0</td>\n",
       "      <td>0.0</td>\n",
       "      <td>2684.90</td>\n",
       "      <td>1.90126</td>\n",
       "      <td>0.240582</td>\n",
       "      <td>-1.58570</td>\n",
       "      <td>...</td>\n",
       "      <td>1.878050</td>\n",
       "      <td>0.451229</td>\n",
       "      <td>0.422485</td>\n",
       "      <td>0.609622</td>\n",
       "      <td>-1.182770</td>\n",
       "      <td>1.376100</td>\n",
       "      <td>-0.053724</td>\n",
       "      <td>-3.178600</td>\n",
       "      <td>-0.124117</td>\n",
       "      <td>2.782180</td>\n",
       "    </tr>\n",
       "    <tr>\n",
       "      <th>4</th>\n",
       "      <td>-2684.22</td>\n",
       "      <td>0.987199</td>\n",
       "      <td>0.871671</td>\n",
       "      <td>2.0</td>\n",
       "      <td>3.0</td>\n",
       "      <td>0.0</td>\n",
       "      <td>2684.70</td>\n",
       "      <td>1.93385</td>\n",
       "      <td>0.211169</td>\n",
       "      <td>-1.60529</td>\n",
       "      <td>...</td>\n",
       "      <td>-1.275930</td>\n",
       "      <td>1.146840</td>\n",
       "      <td>3.453860</td>\n",
       "      <td>2.475300</td>\n",
       "      <td>0.836395</td>\n",
       "      <td>-1.526840</td>\n",
       "      <td>2.138890</td>\n",
       "      <td>-2.139340</td>\n",
       "      <td>-0.748978</td>\n",
       "      <td>0.444177</td>\n",
       "    </tr>\n",
       "    <tr>\n",
       "      <th>...</th>\n",
       "      <td>...</td>\n",
       "      <td>...</td>\n",
       "      <td>...</td>\n",
       "      <td>...</td>\n",
       "      <td>...</td>\n",
       "      <td>...</td>\n",
       "      <td>...</td>\n",
       "      <td>...</td>\n",
       "      <td>...</td>\n",
       "      <td>...</td>\n",
       "      <td>...</td>\n",
       "      <td>...</td>\n",
       "      <td>...</td>\n",
       "      <td>...</td>\n",
       "      <td>...</td>\n",
       "      <td>...</td>\n",
       "      <td>...</td>\n",
       "      <td>...</td>\n",
       "      <td>...</td>\n",
       "      <td>...</td>\n",
       "      <td>...</td>\n",
       "    </tr>\n",
       "    <tr>\n",
       "      <th>3995</th>\n",
       "      <td>-2684.46</td>\n",
       "      <td>0.964142</td>\n",
       "      <td>0.766265</td>\n",
       "      <td>2.0</td>\n",
       "      <td>7.0</td>\n",
       "      <td>0.0</td>\n",
       "      <td>2684.92</td>\n",
       "      <td>1.94658</td>\n",
       "      <td>0.202415</td>\n",
       "      <td>-1.61255</td>\n",
       "      <td>...</td>\n",
       "      <td>-0.881590</td>\n",
       "      <td>1.869680</td>\n",
       "      <td>-1.738460</td>\n",
       "      <td>0.853426</td>\n",
       "      <td>1.087720</td>\n",
       "      <td>0.055422</td>\n",
       "      <td>-1.133440</td>\n",
       "      <td>-1.093550</td>\n",
       "      <td>-3.112520</td>\n",
       "      <td>-1.919800</td>\n",
       "    </tr>\n",
       "    <tr>\n",
       "      <th>3996</th>\n",
       "      <td>-2684.34</td>\n",
       "      <td>0.994857</td>\n",
       "      <td>0.766265</td>\n",
       "      <td>3.0</td>\n",
       "      <td>7.0</td>\n",
       "      <td>0.0</td>\n",
       "      <td>2684.94</td>\n",
       "      <td>1.91826</td>\n",
       "      <td>0.136882</td>\n",
       "      <td>-1.60743</td>\n",
       "      <td>...</td>\n",
       "      <td>1.745300</td>\n",
       "      <td>3.807600</td>\n",
       "      <td>0.792150</td>\n",
       "      <td>0.667018</td>\n",
       "      <td>-0.332574</td>\n",
       "      <td>4.165030</td>\n",
       "      <td>4.566220</td>\n",
       "      <td>-1.218980</td>\n",
       "      <td>2.404410</td>\n",
       "      <td>3.693350</td>\n",
       "    </tr>\n",
       "    <tr>\n",
       "      <th>3997</th>\n",
       "      <td>-2685.00</td>\n",
       "      <td>0.932278</td>\n",
       "      <td>0.766265</td>\n",
       "      <td>2.0</td>\n",
       "      <td>3.0</td>\n",
       "      <td>0.0</td>\n",
       "      <td>2685.36</td>\n",
       "      <td>1.88801</td>\n",
       "      <td>0.111165</td>\n",
       "      <td>-1.59659</td>\n",
       "      <td>...</td>\n",
       "      <td>-2.940750</td>\n",
       "      <td>-1.669780</td>\n",
       "      <td>-0.738032</td>\n",
       "      <td>0.067238</td>\n",
       "      <td>-0.280153</td>\n",
       "      <td>-0.791604</td>\n",
       "      <td>-2.742430</td>\n",
       "      <td>-2.643200</td>\n",
       "      <td>-0.244893</td>\n",
       "      <td>1.869810</td>\n",
       "    </tr>\n",
       "    <tr>\n",
       "      <th>3998</th>\n",
       "      <td>-2685.24</td>\n",
       "      <td>0.986650</td>\n",
       "      <td>0.766265</td>\n",
       "      <td>3.0</td>\n",
       "      <td>7.0</td>\n",
       "      <td>0.0</td>\n",
       "      <td>2685.98</td>\n",
       "      <td>1.93340</td>\n",
       "      <td>0.106651</td>\n",
       "      <td>-1.61906</td>\n",
       "      <td>...</td>\n",
       "      <td>-0.029175</td>\n",
       "      <td>-0.865706</td>\n",
       "      <td>0.446594</td>\n",
       "      <td>-2.152250</td>\n",
       "      <td>1.543240</td>\n",
       "      <td>0.117589</td>\n",
       "      <td>1.552000</td>\n",
       "      <td>-0.976471</td>\n",
       "      <td>-1.579640</td>\n",
       "      <td>-0.571470</td>\n",
       "    </tr>\n",
       "    <tr>\n",
       "      <th>3999</th>\n",
       "      <td>-2684.24</td>\n",
       "      <td>1.000000</td>\n",
       "      <td>0.766265</td>\n",
       "      <td>3.0</td>\n",
       "      <td>7.0</td>\n",
       "      <td>0.0</td>\n",
       "      <td>2685.23</td>\n",
       "      <td>1.87990</td>\n",
       "      <td>0.217445</td>\n",
       "      <td>-1.57776</td>\n",
       "      <td>...</td>\n",
       "      <td>0.844488</td>\n",
       "      <td>3.224780</td>\n",
       "      <td>0.526480</td>\n",
       "      <td>-3.720160</td>\n",
       "      <td>1.879900</td>\n",
       "      <td>2.881850</td>\n",
       "      <td>0.093413</td>\n",
       "      <td>2.287780</td>\n",
       "      <td>-1.489880</td>\n",
       "      <td>-1.960770</td>\n",
       "    </tr>\n",
       "  </tbody>\n",
       "</table>\n",
       "<p>4000 rows × 2609 columns</p>\n",
       "</div>"
      ],
      "text/plain": [
       "         lp__  accept_stat__  stepsize__  treedepth__  n_leapfrog__  \\\n",
       "0    -2684.41       0.808340    0.871671          1.0           3.0   \n",
       "1    -2685.05       0.921564    0.871671          2.0           3.0   \n",
       "2    -2684.06       0.758794    0.871671          2.0           3.0   \n",
       "3    -2684.35       0.906174    0.871671          2.0           3.0   \n",
       "4    -2684.22       0.987199    0.871671          2.0           3.0   \n",
       "...       ...            ...         ...          ...           ...   \n",
       "3995 -2684.46       0.964142    0.766265          2.0           7.0   \n",
       "3996 -2684.34       0.994857    0.766265          3.0           7.0   \n",
       "3997 -2685.00       0.932278    0.766265          2.0           3.0   \n",
       "3998 -2685.24       0.986650    0.766265          3.0           7.0   \n",
       "3999 -2684.24       1.000000    0.766265          3.0           7.0   \n",
       "\n",
       "      divergent__  energy__    sigma        mu  log_lik[1]  ...  y_hat[1291]  \\\n",
       "0             0.0   2688.00  1.93829  0.221400    -1.60625  ...    -1.073850   \n",
       "1             0.0   2685.54  1.90828  0.269653    -1.58598  ...     0.080723   \n",
       "2             0.0   2687.94  1.93029  0.191501    -1.60596  ...     0.132234   \n",
       "3             0.0   2684.90  1.90126  0.240582    -1.58570  ...     1.878050   \n",
       "4             0.0   2684.70  1.93385  0.211169    -1.60529  ...    -1.275930   \n",
       "...           ...       ...      ...       ...         ...  ...          ...   \n",
       "3995          0.0   2684.92  1.94658  0.202415    -1.61255  ...    -0.881590   \n",
       "3996          0.0   2684.94  1.91826  0.136882    -1.60743  ...     1.745300   \n",
       "3997          0.0   2685.36  1.88801  0.111165    -1.59659  ...    -2.940750   \n",
       "3998          0.0   2685.98  1.93340  0.106651    -1.61906  ...    -0.029175   \n",
       "3999          0.0   2685.23  1.87990  0.217445    -1.57776  ...     0.844488   \n",
       "\n",
       "      y_hat[1292]  y_hat[1293]  y_hat[1294]  y_hat[1295]  y_hat[1296]  \\\n",
       "0        1.259880    -1.483450     2.682230    -0.836429     1.199940   \n",
       "1       -0.181961     0.466915     2.414150     1.936940    -1.628440   \n",
       "2        0.409598     0.555319    -1.236130    -0.939522    -1.104400   \n",
       "3        0.451229     0.422485     0.609622    -1.182770     1.376100   \n",
       "4        1.146840     3.453860     2.475300     0.836395    -1.526840   \n",
       "...           ...          ...          ...          ...          ...   \n",
       "3995     1.869680    -1.738460     0.853426     1.087720     0.055422   \n",
       "3996     3.807600     0.792150     0.667018    -0.332574     4.165030   \n",
       "3997    -1.669780    -0.738032     0.067238    -0.280153    -0.791604   \n",
       "3998    -0.865706     0.446594    -2.152250     1.543240     0.117589   \n",
       "3999     3.224780     0.526480    -3.720160     1.879900     2.881850   \n",
       "\n",
       "      y_hat[1297]  y_hat[1298]  y_hat[1299]  y_hat[1300]  \n",
       "0        2.568180    -4.151640    -0.370971     1.277450  \n",
       "1        0.262831     0.133514    -0.126505    -0.654828  \n",
       "2       -0.855172     0.179841     2.353310    -2.078170  \n",
       "3       -0.053724    -3.178600    -0.124117     2.782180  \n",
       "4        2.138890    -2.139340    -0.748978     0.444177  \n",
       "...           ...          ...          ...          ...  \n",
       "3995    -1.133440    -1.093550    -3.112520    -1.919800  \n",
       "3996     4.566220    -1.218980     2.404410     3.693350  \n",
       "3997    -2.742430    -2.643200    -0.244893     1.869810  \n",
       "3998     1.552000    -0.976471    -1.579640    -0.571470  \n",
       "3999     0.093413     2.287780    -1.489880    -1.960770  \n",
       "\n",
       "[4000 rows x 2609 columns]"
      ]
     },
     "execution_count": 18,
     "metadata": {},
     "output_type": "execute_result"
    }
   ],
   "source": [
    "fit_model_1 = samp_model1.draws_pd()\n",
    "fit_model_1"
   ]
  },
  {
   "cell_type": "code",
   "execution_count": 19,
   "metadata": {},
   "outputs": [
    {
     "name": "stderr",
     "output_type": "stream",
     "text": [
      "INFO:cmdstanpy:found newer exe file, not recompiling\n"
     ]
    }
   ],
   "source": [
    "model_2 = CmdStanModel(stan_file='code_4.stan')"
   ]
  },
  {
   "cell_type": "code",
   "execution_count": 20,
   "metadata": {},
   "outputs": [
    {
     "name": "stderr",
     "output_type": "stream",
     "text": [
      "INFO:cmdstanpy:CmdStan start processing\n",
      "chain 1 |\u001b[33m          \u001b[0m| 00:00 Status\n",
      "\u001b[A\n",
      "\n",
      "\u001b[A\u001b[A\n",
      "\n",
      "\u001b[A\u001b[A\n",
      "chain 1 |\u001b[33m▍         \u001b[0m| 00:00 Status\n",
      "\n",
      "\u001b[A\u001b[A\n",
      "chain 1 |\u001b[33m█▎        \u001b[0m| 00:00 Iteration:  100 / 2000 [  5%]  (Warmup)\n",
      "\n",
      "chain 1 |\u001b[33m██▎       \u001b[0m| 00:00 Iteration:  300 / 2000 [ 15%]  (Warmup)\n",
      "\u001b[A\n",
      "\n",
      "\u001b[A\u001b[A\n",
      "chain 1 |\u001b[33m███▏      \u001b[0m| 00:00 Iteration:  500 / 2000 [ 25%]  (Warmup)\n",
      "\n",
      "\u001b[A\u001b[A\n",
      "chain 1 |\u001b[33m████      \u001b[0m| 00:00 Iteration:  700 / 2000 [ 35%]  (Warmup)\n",
      "\n",
      "\u001b[A\u001b[A\n",
      "chain 1 |\u001b[33m█████     \u001b[0m| 00:01 Iteration:  900 / 2000 [ 45%]  (Warmup)\n",
      "\n",
      "chain 1 |\u001b[34m█████▉    \u001b[0m| 00:01 Iteration: 1001 / 2000 [ 50%]  (Sampling)\n",
      "\u001b[A\n",
      "\n",
      "chain 1 |\u001b[34m██████▎   \u001b[0m| 00:02 Iteration: 1100 / 2000 [ 55%]  (Sampling)\n",
      "\n",
      "\u001b[A\u001b[A\n",
      "chain 1 |\u001b[34m██████▊   \u001b[0m| 00:03 Iteration: 1200 / 2000 [ 60%]  (Sampling)\n",
      "\n",
      "\u001b[A\u001b[A\n",
      "chain 1 |\u001b[34m███████▎  \u001b[0m| 00:04 Iteration: 1300 / 2000 [ 65%]  (Sampling)\n",
      "\n",
      "\u001b[A\u001b[A\n",
      "chain 1 |\u001b[34m███████▋  \u001b[0m| 00:04 Iteration: 1400 / 2000 [ 70%]  (Sampling)\n",
      "\n",
      "\u001b[A\u001b[A\n",
      "chain 1 |\u001b[34m████████▏ \u001b[0m| 00:05 Iteration: 1500 / 2000 [ 75%]  (Sampling)\n",
      "\u001b[A\n",
      "\n",
      "chain 1 |\u001b[34m████████▋ \u001b[0m| 00:06 Iteration: 1600 / 2000 [ 80%]  (Sampling)\n",
      "\u001b[A\n",
      "\n",
      "chain 1 |\u001b[34m█████████ \u001b[0m| 00:07 Iteration: 1700 / 2000 [ 85%]  (Sampling)\n",
      "\u001b[A\n",
      "\n",
      "chain 1 |\u001b[34m█████████▌\u001b[0m| 00:08 Iteration: 1800 / 2000 [ 90%]  (Sampling)\n",
      "\u001b[A\n",
      "\n",
      "chain 1 |\u001b[34m██████████\u001b[0m| 00:09 Iteration: 1900 / 2000 [ 95%]  (Sampling)\n",
      "\u001b[A\n",
      "\n",
      "chain 1 |\u001b[34m██████████\u001b[0m| 00:10 Sampling completed                       \n",
      "chain 2 |\u001b[34m██████████\u001b[0m| 00:10 Sampling completed                       \n",
      "chain 3 |\u001b[34m██████████\u001b[0m| 00:10 Sampling completed                       \n",
      "chain 4 |\u001b[34m██████████\u001b[0m| 00:09 Sampling completed                       "
     ]
    },
    {
     "name": "stdout",
     "output_type": "stream",
     "text": [
      "                                                                                                                                                                                                                                                                                                                                "
     ]
    },
    {
     "name": "stderr",
     "output_type": "stream",
     "text": [
      "\n",
      "INFO:cmdstanpy:CmdStan done processing.\n"
     ]
    },
    {
     "name": "stdout",
     "output_type": "stream",
     "text": [
      "\n"
     ]
    }
   ],
   "source": [
    "samp_model2 = model_2.sample(data={'N': N, 'y': y1_sample})"
   ]
  },
  {
   "cell_type": "code",
   "execution_count": 21,
   "metadata": {},
   "outputs": [
    {
     "data": {
      "text/html": [
       "<div>\n",
       "<style scoped>\n",
       "    .dataframe tbody tr th:only-of-type {\n",
       "        vertical-align: middle;\n",
       "    }\n",
       "\n",
       "    .dataframe tbody tr th {\n",
       "        vertical-align: top;\n",
       "    }\n",
       "\n",
       "    .dataframe thead th {\n",
       "        text-align: right;\n",
       "    }\n",
       "</style>\n",
       "<table border=\"1\" class=\"dataframe\">\n",
       "  <thead>\n",
       "    <tr style=\"text-align: right;\">\n",
       "      <th></th>\n",
       "      <th>lp__</th>\n",
       "      <th>accept_stat__</th>\n",
       "      <th>stepsize__</th>\n",
       "      <th>treedepth__</th>\n",
       "      <th>n_leapfrog__</th>\n",
       "      <th>divergent__</th>\n",
       "      <th>energy__</th>\n",
       "      <th>sigma</th>\n",
       "      <th>mu</th>\n",
       "      <th>nu</th>\n",
       "      <th>...</th>\n",
       "      <th>y_hat[1291]</th>\n",
       "      <th>y_hat[1292]</th>\n",
       "      <th>y_hat[1293]</th>\n",
       "      <th>y_hat[1294]</th>\n",
       "      <th>y_hat[1295]</th>\n",
       "      <th>y_hat[1296]</th>\n",
       "      <th>y_hat[1297]</th>\n",
       "      <th>y_hat[1298]</th>\n",
       "      <th>y_hat[1299]</th>\n",
       "      <th>y_hat[1300]</th>\n",
       "    </tr>\n",
       "  </thead>\n",
       "  <tbody>\n",
       "    <tr>\n",
       "      <th>0</th>\n",
       "      <td>-1976.42</td>\n",
       "      <td>0.837712</td>\n",
       "      <td>0.717356</td>\n",
       "      <td>3.0</td>\n",
       "      <td>7.0</td>\n",
       "      <td>0.0</td>\n",
       "      <td>1979.20</td>\n",
       "      <td>0.789310</td>\n",
       "      <td>0.049536</td>\n",
       "      <td>3.17747</td>\n",
       "      <td>...</td>\n",
       "      <td>0.284591</td>\n",
       "      <td>-1.358070</td>\n",
       "      <td>0.854549</td>\n",
       "      <td>1.799320</td>\n",
       "      <td>0.478980</td>\n",
       "      <td>0.742225</td>\n",
       "      <td>1.125640</td>\n",
       "      <td>-1.764940</td>\n",
       "      <td>0.011908</td>\n",
       "      <td>-0.651787</td>\n",
       "    </tr>\n",
       "    <tr>\n",
       "      <th>1</th>\n",
       "      <td>-1977.47</td>\n",
       "      <td>0.911220</td>\n",
       "      <td>0.717356</td>\n",
       "      <td>2.0</td>\n",
       "      <td>3.0</td>\n",
       "      <td>0.0</td>\n",
       "      <td>1977.72</td>\n",
       "      <td>0.785656</td>\n",
       "      <td>0.071056</td>\n",
       "      <td>3.05647</td>\n",
       "      <td>...</td>\n",
       "      <td>0.205475</td>\n",
       "      <td>-1.259760</td>\n",
       "      <td>-0.537868</td>\n",
       "      <td>-0.316577</td>\n",
       "      <td>0.860065</td>\n",
       "      <td>-0.692643</td>\n",
       "      <td>-3.502850</td>\n",
       "      <td>2.051750</td>\n",
       "      <td>-0.303855</td>\n",
       "      <td>-0.105670</td>\n",
       "    </tr>\n",
       "    <tr>\n",
       "      <th>2</th>\n",
       "      <td>-1977.06</td>\n",
       "      <td>0.981161</td>\n",
       "      <td>0.717356</td>\n",
       "      <td>2.0</td>\n",
       "      <td>3.0</td>\n",
       "      <td>0.0</td>\n",
       "      <td>1978.13</td>\n",
       "      <td>0.779816</td>\n",
       "      <td>0.041134</td>\n",
       "      <td>3.07054</td>\n",
       "      <td>...</td>\n",
       "      <td>0.764760</td>\n",
       "      <td>0.138598</td>\n",
       "      <td>0.001998</td>\n",
       "      <td>1.272310</td>\n",
       "      <td>0.408573</td>\n",
       "      <td>-3.799980</td>\n",
       "      <td>-0.173429</td>\n",
       "      <td>2.167590</td>\n",
       "      <td>-0.918943</td>\n",
       "      <td>3.309500</td>\n",
       "    </tr>\n",
       "    <tr>\n",
       "      <th>3</th>\n",
       "      <td>-1979.66</td>\n",
       "      <td>0.861406</td>\n",
       "      <td>0.717356</td>\n",
       "      <td>2.0</td>\n",
       "      <td>3.0</td>\n",
       "      <td>0.0</td>\n",
       "      <td>1979.90</td>\n",
       "      <td>0.762714</td>\n",
       "      <td>-0.004570</td>\n",
       "      <td>3.01558</td>\n",
       "      <td>...</td>\n",
       "      <td>1.674050</td>\n",
       "      <td>-0.240133</td>\n",
       "      <td>-0.090923</td>\n",
       "      <td>0.172713</td>\n",
       "      <td>0.608201</td>\n",
       "      <td>1.569420</td>\n",
       "      <td>1.311410</td>\n",
       "      <td>-0.722799</td>\n",
       "      <td>0.545874</td>\n",
       "      <td>-1.549900</td>\n",
       "    </tr>\n",
       "    <tr>\n",
       "      <th>4</th>\n",
       "      <td>-1976.99</td>\n",
       "      <td>0.908361</td>\n",
       "      <td>0.717356</td>\n",
       "      <td>2.0</td>\n",
       "      <td>3.0</td>\n",
       "      <td>0.0</td>\n",
       "      <td>1980.90</td>\n",
       "      <td>0.823755</td>\n",
       "      <td>0.059948</td>\n",
       "      <td>3.18643</td>\n",
       "      <td>...</td>\n",
       "      <td>0.299226</td>\n",
       "      <td>-0.581046</td>\n",
       "      <td>1.401590</td>\n",
       "      <td>0.412322</td>\n",
       "      <td>0.385214</td>\n",
       "      <td>0.630800</td>\n",
       "      <td>1.220000</td>\n",
       "      <td>-0.483729</td>\n",
       "      <td>1.581390</td>\n",
       "      <td>-0.246806</td>\n",
       "    </tr>\n",
       "    <tr>\n",
       "      <th>...</th>\n",
       "      <td>...</td>\n",
       "      <td>...</td>\n",
       "      <td>...</td>\n",
       "      <td>...</td>\n",
       "      <td>...</td>\n",
       "      <td>...</td>\n",
       "      <td>...</td>\n",
       "      <td>...</td>\n",
       "      <td>...</td>\n",
       "      <td>...</td>\n",
       "      <td>...</td>\n",
       "      <td>...</td>\n",
       "      <td>...</td>\n",
       "      <td>...</td>\n",
       "      <td>...</td>\n",
       "      <td>...</td>\n",
       "      <td>...</td>\n",
       "      <td>...</td>\n",
       "      <td>...</td>\n",
       "      <td>...</td>\n",
       "      <td>...</td>\n",
       "    </tr>\n",
       "    <tr>\n",
       "      <th>3995</th>\n",
       "      <td>-1975.80</td>\n",
       "      <td>0.996157</td>\n",
       "      <td>0.655997</td>\n",
       "      <td>2.0</td>\n",
       "      <td>7.0</td>\n",
       "      <td>0.0</td>\n",
       "      <td>1976.67</td>\n",
       "      <td>0.818171</td>\n",
       "      <td>0.038086</td>\n",
       "      <td>3.47927</td>\n",
       "      <td>...</td>\n",
       "      <td>-0.569526</td>\n",
       "      <td>-0.274905</td>\n",
       "      <td>-0.865874</td>\n",
       "      <td>-1.764810</td>\n",
       "      <td>0.639648</td>\n",
       "      <td>0.114619</td>\n",
       "      <td>0.689435</td>\n",
       "      <td>-0.483158</td>\n",
       "      <td>0.833013</td>\n",
       "      <td>1.744550</td>\n",
       "    </tr>\n",
       "    <tr>\n",
       "      <th>3996</th>\n",
       "      <td>-1977.83</td>\n",
       "      <td>0.684940</td>\n",
       "      <td>0.655997</td>\n",
       "      <td>2.0</td>\n",
       "      <td>3.0</td>\n",
       "      <td>0.0</td>\n",
       "      <td>1978.71</td>\n",
       "      <td>0.850687</td>\n",
       "      <td>0.034912</td>\n",
       "      <td>3.36126</td>\n",
       "      <td>...</td>\n",
       "      <td>0.316316</td>\n",
       "      <td>-0.808527</td>\n",
       "      <td>-0.833802</td>\n",
       "      <td>-0.359169</td>\n",
       "      <td>0.164137</td>\n",
       "      <td>-1.039860</td>\n",
       "      <td>-10.947000</td>\n",
       "      <td>0.074846</td>\n",
       "      <td>-1.322040</td>\n",
       "      <td>1.995940</td>\n",
       "    </tr>\n",
       "    <tr>\n",
       "      <th>3997</th>\n",
       "      <td>-1976.35</td>\n",
       "      <td>0.977364</td>\n",
       "      <td>0.655997</td>\n",
       "      <td>2.0</td>\n",
       "      <td>7.0</td>\n",
       "      <td>0.0</td>\n",
       "      <td>1978.83</td>\n",
       "      <td>0.800768</td>\n",
       "      <td>0.023786</td>\n",
       "      <td>3.24677</td>\n",
       "      <td>...</td>\n",
       "      <td>-0.055098</td>\n",
       "      <td>-0.061498</td>\n",
       "      <td>-0.646946</td>\n",
       "      <td>-0.913071</td>\n",
       "      <td>1.726650</td>\n",
       "      <td>0.466949</td>\n",
       "      <td>4.311310</td>\n",
       "      <td>3.320010</td>\n",
       "      <td>0.143897</td>\n",
       "      <td>-0.038161</td>\n",
       "    </tr>\n",
       "    <tr>\n",
       "      <th>3998</th>\n",
       "      <td>-1976.51</td>\n",
       "      <td>0.918100</td>\n",
       "      <td>0.655997</td>\n",
       "      <td>2.0</td>\n",
       "      <td>7.0</td>\n",
       "      <td>0.0</td>\n",
       "      <td>1977.41</td>\n",
       "      <td>0.828599</td>\n",
       "      <td>0.039787</td>\n",
       "      <td>3.30466</td>\n",
       "      <td>...</td>\n",
       "      <td>0.551874</td>\n",
       "      <td>1.524310</td>\n",
       "      <td>-0.300149</td>\n",
       "      <td>-0.702470</td>\n",
       "      <td>-1.601280</td>\n",
       "      <td>-1.337500</td>\n",
       "      <td>3.703890</td>\n",
       "      <td>0.987391</td>\n",
       "      <td>-0.170737</td>\n",
       "      <td>0.873652</td>\n",
       "    </tr>\n",
       "    <tr>\n",
       "      <th>3999</th>\n",
       "      <td>-1977.94</td>\n",
       "      <td>0.873658</td>\n",
       "      <td>0.655997</td>\n",
       "      <td>3.0</td>\n",
       "      <td>7.0</td>\n",
       "      <td>0.0</td>\n",
       "      <td>1979.19</td>\n",
       "      <td>0.811297</td>\n",
       "      <td>0.030512</td>\n",
       "      <td>4.01543</td>\n",
       "      <td>...</td>\n",
       "      <td>-0.597064</td>\n",
       "      <td>0.658883</td>\n",
       "      <td>-0.775325</td>\n",
       "      <td>-1.603050</td>\n",
       "      <td>2.040660</td>\n",
       "      <td>1.405500</td>\n",
       "      <td>-0.558698</td>\n",
       "      <td>0.118837</td>\n",
       "      <td>-0.115023</td>\n",
       "      <td>-0.408459</td>\n",
       "    </tr>\n",
       "  </tbody>\n",
       "</table>\n",
       "<p>4000 rows × 2610 columns</p>\n",
       "</div>"
      ],
      "text/plain": [
       "         lp__  accept_stat__  stepsize__  treedepth__  n_leapfrog__  \\\n",
       "0    -1976.42       0.837712    0.717356          3.0           7.0   \n",
       "1    -1977.47       0.911220    0.717356          2.0           3.0   \n",
       "2    -1977.06       0.981161    0.717356          2.0           3.0   \n",
       "3    -1979.66       0.861406    0.717356          2.0           3.0   \n",
       "4    -1976.99       0.908361    0.717356          2.0           3.0   \n",
       "...       ...            ...         ...          ...           ...   \n",
       "3995 -1975.80       0.996157    0.655997          2.0           7.0   \n",
       "3996 -1977.83       0.684940    0.655997          2.0           3.0   \n",
       "3997 -1976.35       0.977364    0.655997          2.0           7.0   \n",
       "3998 -1976.51       0.918100    0.655997          2.0           7.0   \n",
       "3999 -1977.94       0.873658    0.655997          3.0           7.0   \n",
       "\n",
       "      divergent__  energy__     sigma        mu       nu  ...  y_hat[1291]  \\\n",
       "0             0.0   1979.20  0.789310  0.049536  3.17747  ...     0.284591   \n",
       "1             0.0   1977.72  0.785656  0.071056  3.05647  ...     0.205475   \n",
       "2             0.0   1978.13  0.779816  0.041134  3.07054  ...     0.764760   \n",
       "3             0.0   1979.90  0.762714 -0.004570  3.01558  ...     1.674050   \n",
       "4             0.0   1980.90  0.823755  0.059948  3.18643  ...     0.299226   \n",
       "...           ...       ...       ...       ...      ...  ...          ...   \n",
       "3995          0.0   1976.67  0.818171  0.038086  3.47927  ...    -0.569526   \n",
       "3996          0.0   1978.71  0.850687  0.034912  3.36126  ...     0.316316   \n",
       "3997          0.0   1978.83  0.800768  0.023786  3.24677  ...    -0.055098   \n",
       "3998          0.0   1977.41  0.828599  0.039787  3.30466  ...     0.551874   \n",
       "3999          0.0   1979.19  0.811297  0.030512  4.01543  ...    -0.597064   \n",
       "\n",
       "      y_hat[1292]  y_hat[1293]  y_hat[1294]  y_hat[1295]  y_hat[1296]  \\\n",
       "0       -1.358070     0.854549     1.799320     0.478980     0.742225   \n",
       "1       -1.259760    -0.537868    -0.316577     0.860065    -0.692643   \n",
       "2        0.138598     0.001998     1.272310     0.408573    -3.799980   \n",
       "3       -0.240133    -0.090923     0.172713     0.608201     1.569420   \n",
       "4       -0.581046     1.401590     0.412322     0.385214     0.630800   \n",
       "...           ...          ...          ...          ...          ...   \n",
       "3995    -0.274905    -0.865874    -1.764810     0.639648     0.114619   \n",
       "3996    -0.808527    -0.833802    -0.359169     0.164137    -1.039860   \n",
       "3997    -0.061498    -0.646946    -0.913071     1.726650     0.466949   \n",
       "3998     1.524310    -0.300149    -0.702470    -1.601280    -1.337500   \n",
       "3999     0.658883    -0.775325    -1.603050     2.040660     1.405500   \n",
       "\n",
       "      y_hat[1297]  y_hat[1298]  y_hat[1299]  y_hat[1300]  \n",
       "0        1.125640    -1.764940     0.011908    -0.651787  \n",
       "1       -3.502850     2.051750    -0.303855    -0.105670  \n",
       "2       -0.173429     2.167590    -0.918943     3.309500  \n",
       "3        1.311410    -0.722799     0.545874    -1.549900  \n",
       "4        1.220000    -0.483729     1.581390    -0.246806  \n",
       "...           ...          ...          ...          ...  \n",
       "3995     0.689435    -0.483158     0.833013     1.744550  \n",
       "3996   -10.947000     0.074846    -1.322040     1.995940  \n",
       "3997     4.311310     3.320010     0.143897    -0.038161  \n",
       "3998     3.703890     0.987391    -0.170737     0.873652  \n",
       "3999    -0.558698     0.118837    -0.115023    -0.408459  \n",
       "\n",
       "[4000 rows x 2610 columns]"
      ]
     },
     "execution_count": 21,
     "metadata": {},
     "output_type": "execute_result"
    }
   ],
   "source": [
    "fit_model_2 = samp_model2.draws_pd()\n",
    "fit_model_2"
   ]
  },
  {
   "attachments": {},
   "cell_type": "markdown",
   "metadata": {},
   "source": [
    "Using az.compare and az.plot_compare analyze both models using loo and waic criteria."
   ]
  },
  {
   "cell_type": "code",
   "execution_count": 22,
   "metadata": {},
   "outputs": [
    {
     "name": "stderr",
     "output_type": "stream",
     "text": [
      "/usr/local/lib/python3.9/site-packages/arviz/stats/stats.py:803: UserWarning: Estimated shape parameter of Pareto distribution is greater than 0.7 for one or more samples. You should consider using a more robust model, this is because importance sampling is less likely to work well if the marginal posterior and LOO posterior are very different. This is more likely to happen with a non-robust model and highly influential observations.\n",
      "  warnings.warn(\n"
     ]
    },
    {
     "data": {
      "text/html": [
       "<div>\n",
       "<style scoped>\n",
       "    .dataframe tbody tr th:only-of-type {\n",
       "        vertical-align: middle;\n",
       "    }\n",
       "\n",
       "    .dataframe tbody tr th {\n",
       "        vertical-align: top;\n",
       "    }\n",
       "\n",
       "    .dataframe thead th {\n",
       "        text-align: right;\n",
       "    }\n",
       "</style>\n",
       "<table border=\"1\" class=\"dataframe\">\n",
       "  <thead>\n",
       "    <tr style=\"text-align: right;\">\n",
       "      <th></th>\n",
       "      <th>rank</th>\n",
       "      <th>elpd_loo</th>\n",
       "      <th>p_loo</th>\n",
       "      <th>elpd_diff</th>\n",
       "      <th>weight</th>\n",
       "      <th>se</th>\n",
       "      <th>dse</th>\n",
       "      <th>warning</th>\n",
       "      <th>scale</th>\n",
       "    </tr>\n",
       "  </thead>\n",
       "  <tbody>\n",
       "    <tr>\n",
       "      <th>Model 2</th>\n",
       "      <td>0</td>\n",
       "      <td>-1977.400029</td>\n",
       "      <td>4.699766</td>\n",
       "      <td>0.000000</td>\n",
       "      <td>1.000000e+00</td>\n",
       "      <td>43.263745</td>\n",
       "      <td>0.000000</td>\n",
       "      <td>False</td>\n",
       "      <td>log</td>\n",
       "    </tr>\n",
       "    <tr>\n",
       "      <th>Model 1</th>\n",
       "      <td>1</td>\n",
       "      <td>-2702.201852</td>\n",
       "      <td>35.290808</td>\n",
       "      <td>724.801823</td>\n",
       "      <td>4.440892e-16</td>\n",
       "      <td>162.135309</td>\n",
       "      <td>131.595906</td>\n",
       "      <td>True</td>\n",
       "      <td>log</td>\n",
       "    </tr>\n",
       "  </tbody>\n",
       "</table>\n",
       "</div>"
      ],
      "text/plain": [
       "         rank     elpd_loo      p_loo   elpd_diff        weight          se  \\\n",
       "Model 2     0 -1977.400029   4.699766    0.000000  1.000000e+00   43.263745   \n",
       "Model 1     1 -2702.201852  35.290808  724.801823  4.440892e-16  162.135309   \n",
       "\n",
       "                dse  warning scale  \n",
       "Model 2    0.000000    False   log  \n",
       "Model 1  131.595906     True   log  "
      ]
     },
     "execution_count": 22,
     "metadata": {},
     "output_type": "execute_result"
    }
   ],
   "source": [
    "compare_dict = {\"Model 1\": samp_model1, \"Model 2\": samp_model2}\n",
    "model_comapre_1 = az.compare(compare_dict, ic=\"loo\")\n",
    "model_comapre_1"
   ]
  },
  {
   "cell_type": "code",
   "execution_count": 23,
   "metadata": {},
   "outputs": [
    {
     "data": {
      "image/png": "[encoded data removed]",
      "text/plain": [
       "<Figure size 432x144 with 1 Axes>"
      ]
     },
     "metadata": {
      "needs_background": "light"
     },
     "output_type": "display_data"
    }
   ],
   "source": [
    "az.plot_compare(model_comapre_1)\n",
    "plt.show()"
   ]
  },
  {
   "cell_type": "code",
   "execution_count": 24,
   "metadata": {},
   "outputs": [
    {
     "name": "stderr",
     "output_type": "stream",
     "text": [
      "/usr/local/lib/python3.9/site-packages/arviz/stats/stats.py:1645: UserWarning: For one or more samples the posterior variance of the log predictive densities exceeds 0.4. This could be indication of WAIC starting to fail. \n",
      "See http://arxiv.org/abs/1507.04544 for details\n",
      "  warnings.warn(\n"
     ]
    }
   ],
   "source": [
    "model_comapre_2 = az.compare(compare_dict, ic=\"waic\")"
   ]
  },
  {
   "cell_type": "code",
   "execution_count": 25,
   "metadata": {},
   "outputs": [
    {
     "data": {
      "image/png": "[encoded data removed]",
      "text/plain": [
       "<Figure size 432x144 with 1 Axes>"
      ]
     },
     "metadata": {
      "needs_background": "light"
     },
     "output_type": "display_data"
    }
   ],
   "source": [
    "az.plot_compare(model_comapre_2)\n",
    "plt.show()"
   ]
  },
  {
   "attachments": {},
   "cell_type": "markdown",
   "metadata": {},
   "source": [
    "### Excercise 3 - compare models with different numbers of predictors"
   ]
  },
  {
   "cell_type": "code",
   "execution_count": 26,
   "metadata": {},
   "outputs": [
    {
     "name": "stderr",
     "output_type": "stream",
     "text": [
      "INFO:cmdstanpy:found newer exe file, not recompiling\n"
     ]
    }
   ],
   "source": [
    "K = [1, 2, 3]\n",
    "model_3 = CmdStanModel(stan_file='code_5.stan')"
   ]
  },
  {
   "cell_type": "code",
   "execution_count": 27,
   "metadata": {},
   "outputs": [
    {
     "name": "stderr",
     "output_type": "stream",
     "text": [
      "INFO:cmdstanpy:CmdStan start processing\n",
      "chain 1 |\u001b[33m          \u001b[0m| 00:00 Status\n",
      "\u001b[A\n",
      "\n",
      "\u001b[A\u001b[A\n",
      "\n",
      "\u001b[A\u001b[A\n",
      "chain 1 |\u001b[33m▍         \u001b[0m| 00:00 Status\n",
      "\n",
      "chain 1 |\u001b[33m▉         \u001b[0m| 00:00 Iteration:    1 / 2000 [  0%]  (Warmup)\n",
      "\u001b[A\n",
      "\n",
      "\u001b[A\u001b[A\n",
      "chain 1 |\u001b[33m█▎        \u001b[0m| 00:00 Iteration:  100 / 2000 [  5%]  (Warmup)\n",
      "\n",
      "\u001b[A\u001b[A\n",
      "chain 1 |\u001b[33m█▊        \u001b[0m| 00:01 Iteration:  200 / 2000 [ 10%]  (Warmup)\n",
      "\n",
      "\u001b[A\u001b[A\n",
      "\u001b[A\n",
      "\n",
      "chain 1 |\u001b[33m██▋       \u001b[0m| 00:01 Iteration:  400 / 2000 [ 20%]  (Warmup)\n",
      "chain 1 |\u001b[33m███▏      \u001b[0m| 00:01 Iteration:  500 / 2000 [ 25%]  (Warmup)\n",
      "\n",
      "chain 1 |\u001b[33m████▌     \u001b[0m| 00:01 Iteration:  800 / 2000 [ 40%]  (Warmup)\n",
      "\n",
      "chain 1 |\u001b[34m█████▉    \u001b[0m| 00:02 Iteration: 1001 / 2000 [ 50%]  (Sampling)\n",
      "\n",
      "\u001b[A\u001b[A\n",
      "chain 1 |\u001b[34m██████▎   \u001b[0m| 00:03 Iteration: 1100 / 2000 [ 55%]  (Sampling)\n",
      "\n",
      "\u001b[A\u001b[A\n",
      "chain 1 |\u001b[34m██████▊   \u001b[0m| 00:04 Iteration: 1200 / 2000 [ 60%]  (Sampling)\n",
      "\n",
      "\u001b[A\u001b[A\n",
      "chain 1 |\u001b[34m███████▎  \u001b[0m| 00:05 Iteration: 1300 / 2000 [ 65%]  (Sampling)\n",
      "\n",
      "\u001b[A\u001b[A\n",
      "chain 1 |\u001b[34m███████▋  \u001b[0m| 00:05 Iteration: 1400 / 2000 [ 70%]  (Sampling)\n",
      "\n",
      "\u001b[A\u001b[A\n",
      "chain 1 |\u001b[34m████████▏ \u001b[0m| 00:06 Iteration: 1500 / 2000 [ 75%]  (Sampling)\n",
      "\n",
      "\u001b[A\u001b[A\n",
      "chain 1 |\u001b[34m████████▋ \u001b[0m| 00:07 Iteration: 1600 / 2000 [ 80%]  (Sampling)\n",
      "\n",
      "\u001b[A\u001b[A\n",
      "chain 1 |\u001b[34m█████████ \u001b[0m| 00:07 Iteration: 1700 / 2000 [ 85%]  (Sampling)\n",
      "\n",
      "\u001b[A\u001b[A\n",
      "chain 1 |\u001b[34m█████████▌\u001b[0m| 00:08 Iteration: 1800 / 2000 [ 90%]  (Sampling)\n",
      "\n",
      "\u001b[A\u001b[A\n",
      "chain 1 |\u001b[34m██████████\u001b[0m| 00:08 Sampling completed                       \n",
      "chain 2 |\u001b[34m██████████\u001b[0m| 00:08 Sampling completed                       \n",
      "chain 3 |\u001b[34m██████████\u001b[0m| 00:08 Sampling completed                       \n",
      "chain 4 |\u001b[34m██████████\u001b[0m| 00:08 Sampling completed                       "
     ]
    },
    {
     "name": "stdout",
     "output_type": "stream",
     "text": [
      "                                                                                                                                                                                                                                                                                                                                "
     ]
    },
    {
     "name": "stderr",
     "output_type": "stream",
     "text": [
      "\n",
      "INFO:cmdstanpy:CmdStan done processing.\n"
     ]
    },
    {
     "name": "stdout",
     "output_type": "stream",
     "text": [
      "\n"
     ]
    }
   ],
   "source": [
    "samp_model3_1 = model_3.sample(data={'N': N, 'K': K[0], 'y': y2_sample, \"X\": X_1})"
   ]
  },
  {
   "cell_type": "code",
   "execution_count": 28,
   "metadata": {},
   "outputs": [
    {
     "name": "stderr",
     "output_type": "stream",
     "text": [
      "INFO:cmdstanpy:CmdStan start processing\n",
      "chain 1 |\u001b[33m          \u001b[0m| 00:00 Status\n",
      "\u001b[A\n",
      "\n",
      "\u001b[A\u001b[A\n",
      "chain 1 |\u001b[33m▍         \u001b[0m| 00:00 Status\n",
      "\n",
      "\u001b[A\u001b[A\n",
      "chain 1 |\u001b[33m▉         \u001b[0m| 00:00 Iteration:    1 / 2000 [  0%]  (Warmup)\n",
      "\n",
      "\u001b[A\u001b[A\n",
      "chain 1 |\u001b[33m█▎        \u001b[0m| 00:00 Iteration:  100 / 2000 [  5%]  (Warmup)\n",
      "\n",
      "\u001b[A\u001b[A\n",
      "chain 1 |\u001b[33m██▎       \u001b[0m| 00:00 Iteration:  300 / 2000 [ 15%]  (Warmup)\n",
      "\n",
      "\u001b[A\u001b[A\n",
      "chain 1 |\u001b[33m███▋      \u001b[0m| 00:00 Iteration:  600 / 2000 [ 30%]  (Warmup)\n",
      "\n",
      "chain 1 |\u001b[33m█████     \u001b[0m| 00:00 Iteration:  900 / 2000 [ 45%]  (Warmup)\n",
      "\u001b[A\n",
      "\n",
      "chain 1 |\u001b[34m█████▉    \u001b[0m| 00:01 Iteration: 1001 / 2000 [ 50%]  (Sampling)\n",
      "\n",
      "\u001b[A\u001b[A\n",
      "chain 1 |\u001b[34m██████▊   \u001b[0m| 00:03 Iteration: 1200 / 2000 [ 60%]  (Sampling)\n",
      "\n",
      "\u001b[A\u001b[A\n",
      "chain 1 |\u001b[34m███████▎  \u001b[0m| 00:04 Iteration: 1300 / 2000 [ 65%]  (Sampling)\n",
      "\n",
      "\u001b[A\u001b[A\n",
      "chain 1 |\u001b[34m███████▋  \u001b[0m| 00:05 Iteration: 1400 / 2000 [ 70%]  (Sampling)\n",
      "\n",
      "\u001b[A\u001b[A\n",
      "chain 1 |\u001b[34m████████▏ \u001b[0m| 00:06 Iteration: 1500 / 2000 [ 75%]  (Sampling)\n",
      "\n",
      "\u001b[A\u001b[A\n",
      "chain 1 |\u001b[34m████████▋ \u001b[0m| 00:06 Iteration: 1600 / 2000 [ 80%]  (Sampling)\n",
      "\n",
      "\u001b[A\u001b[A\n",
      "chain 1 |\u001b[34m█████████ \u001b[0m| 00:07 Iteration: 1700 / 2000 [ 85%]  (Sampling)\n",
      "\u001b[A\n",
      "\n",
      "chain 1 |\u001b[34m█████████▌\u001b[0m| 00:08 Iteration: 1800 / 2000 [ 90%]  (Sampling)\n",
      "\u001b[A\n",
      "\n",
      "chain 1 |\u001b[34m██████████\u001b[0m| 00:09 Sampling completed                       \n",
      "chain 2 |\u001b[34m██████████\u001b[0m| 00:09 Sampling completed                       \n",
      "chain 3 |\u001b[34m██████████\u001b[0m| 00:09 Sampling completed                       \n",
      "chain 4 |\u001b[34m██████████\u001b[0m| 00:09 Sampling completed                       "
     ]
    },
    {
     "name": "stdout",
     "output_type": "stream",
     "text": [
      "                                                                                                                                                                                                                                                                                                                                "
     ]
    },
    {
     "name": "stderr",
     "output_type": "stream",
     "text": [
      "\n",
      "INFO:cmdstanpy:CmdStan done processing.\n"
     ]
    },
    {
     "name": "stdout",
     "output_type": "stream",
     "text": [
      "\n"
     ]
    }
   ],
   "source": [
    "samp_model3_2 = model_3.sample(data={'N': N, 'K': K[1], 'y': y2_sample, \"X\": X_2_matrix})"
   ]
  },
  {
   "cell_type": "code",
   "execution_count": 29,
   "metadata": {},
   "outputs": [
    {
     "name": "stderr",
     "output_type": "stream",
     "text": [
      "INFO:cmdstanpy:CmdStan start processing\n",
      "chain 1 |\u001b[33m          \u001b[0m| 00:00 Status\n",
      "\u001b[A\n",
      "\n",
      "\u001b[A\u001b[A\n",
      "\n",
      "\u001b[A\u001b[A\n",
      "chain 1 |\u001b[33m▍         \u001b[0m| 00:00 Status\n",
      "\u001b[A\n",
      "\n",
      "chain 1 |\u001b[33m█▎        \u001b[0m| 00:00 Iteration:  100 / 2000 [  5%]  (Warmup)\n",
      "\u001b[A\n",
      "\n",
      "chain 1 |\u001b[33m█▊        \u001b[0m| 00:00 Iteration:  200 / 2000 [ 10%]  (Warmup)\n",
      "\u001b[A\n",
      "\n",
      "\u001b[A\u001b[A\n",
      "chain 1 |\u001b[33m██▋       \u001b[0m| 00:00 Iteration:  400 / 2000 [ 20%]  (Warmup)\n",
      "\n",
      "chain 1 |\u001b[33m████      \u001b[0m| 00:00 Iteration:  700 / 2000 [ 35%]  (Warmup)\n",
      "\u001b[A\n",
      "\n",
      "chain 1 |\u001b[33m█████     \u001b[0m| 00:00 Iteration:  900 / 2000 [ 45%]  (Warmup)\n",
      "\u001b[A\n",
      "\n",
      "\u001b[A\u001b[A\n",
      "\n",
      "chain 1 |\u001b[34m█████▉    \u001b[0m| 00:01 Iteration: 1001 / 2000 [ 50%]  (Sampling)\n",
      "\u001b[A\n",
      "\n",
      "chain 1 |\u001b[34m██████▊   \u001b[0m| 00:03 Iteration: 1200 / 2000 [ 60%]  (Sampling)\n",
      "\u001b[A\n",
      "\n",
      "\u001b[A\u001b[A\n",
      "chain 1 |\u001b[34m███████▎  \u001b[0m| 00:03 Iteration: 1300 / 2000 [ 65%]  (Sampling)\n",
      "\n",
      "\u001b[A\u001b[A\n",
      "chain 1 |\u001b[34m███████▋  \u001b[0m| 00:04 Iteration: 1400 / 2000 [ 70%]  (Sampling)\n",
      "\n",
      "\u001b[A\u001b[A\n",
      "chain 1 |\u001b[34m████████▏ \u001b[0m| 00:05 Iteration: 1500 / 2000 [ 75%]  (Sampling)\n",
      "chain 1 |\u001b[34m████████▋ \u001b[0m| 00:05 Iteration: 1600 / 2000 [ 80%]  (Sampling)\n",
      "\n",
      "\u001b[A\u001b[A\n",
      "chain 1 |\u001b[34m█████████ \u001b[0m| 00:06 Iteration: 1700 / 2000 [ 85%]  (Sampling)\n",
      "\n",
      "\u001b[A\u001b[A\n",
      "chain 1 |\u001b[34m█████████▌\u001b[0m| 00:07 Iteration: 1800 / 2000 [ 90%]  (Sampling)\n",
      "\n",
      "chain 1 |\u001b[34m██████████\u001b[0m| 00:08 Iteration: 1900 / 2000 [ 95%]  (Sampling)\n",
      "\u001b[A\n",
      "\n",
      "chain 1 |\u001b[34m██████████\u001b[0m| 00:08 Sampling completed                       \n",
      "chain 2 |\u001b[34m██████████\u001b[0m| 00:08 Sampling completed                       \n",
      "chain 3 |\u001b[34m██████████\u001b[0m| 00:08 Sampling completed                       \n",
      "chain 4 |\u001b[34m██████████\u001b[0m| 00:08 Sampling completed                       "
     ]
    },
    {
     "name": "stdout",
     "output_type": "stream",
     "text": [
      "                                                                                                                                                                                                                                                                                                                                "
     ]
    },
    {
     "name": "stderr",
     "output_type": "stream",
     "text": [
      "\n",
      "INFO:cmdstanpy:CmdStan done processing.\n"
     ]
    },
    {
     "name": "stdout",
     "output_type": "stream",
     "text": [
      "\n"
     ]
    }
   ],
   "source": [
    "samp_model3_3 = model_3.sample(data={'N': N, 'K': K[2], 'y': y2_sample, \"X\": X_3_matrix})"
   ]
  },
  {
   "attachments": {},
   "cell_type": "markdown",
   "metadata": {},
   "source": [
    "Compare models for 1, 2 and 3 predictors as in previous excercise"
   ]
  },
  {
   "cell_type": "code",
   "execution_count": 30,
   "metadata": {},
   "outputs": [
    {
     "data": {
      "text/html": [
       "<div>\n",
       "<style scoped>\n",
       "    .dataframe tbody tr th:only-of-type {\n",
       "        vertical-align: middle;\n",
       "    }\n",
       "\n",
       "    .dataframe tbody tr th {\n",
       "        vertical-align: top;\n",
       "    }\n",
       "\n",
       "    .dataframe thead th {\n",
       "        text-align: right;\n",
       "    }\n",
       "</style>\n",
       "<table border=\"1\" class=\"dataframe\">\n",
       "  <thead>\n",
       "    <tr style=\"text-align: right;\">\n",
       "      <th></th>\n",
       "      <th>rank</th>\n",
       "      <th>elpd_loo</th>\n",
       "      <th>p_loo</th>\n",
       "      <th>elpd_diff</th>\n",
       "      <th>weight</th>\n",
       "      <th>se</th>\n",
       "      <th>dse</th>\n",
       "      <th>warning</th>\n",
       "      <th>scale</th>\n",
       "    </tr>\n",
       "  </thead>\n",
       "  <tbody>\n",
       "    <tr>\n",
       "      <th>3 predictors</th>\n",
       "      <td>0</td>\n",
       "      <td>-1846.572477</td>\n",
       "      <td>3.942922</td>\n",
       "      <td>0.000000</td>\n",
       "      <td>1.000000e+00</td>\n",
       "      <td>25.344621</td>\n",
       "      <td>0.000000</td>\n",
       "      <td>False</td>\n",
       "      <td>log</td>\n",
       "    </tr>\n",
       "    <tr>\n",
       "      <th>1 predictor</th>\n",
       "      <td>1</td>\n",
       "      <td>-2343.299296</td>\n",
       "      <td>1.858655</td>\n",
       "      <td>496.726819</td>\n",
       "      <td>3.519314e-08</td>\n",
       "      <td>25.031182</td>\n",
       "      <td>25.781384</td>\n",
       "      <td>False</td>\n",
       "      <td>log</td>\n",
       "    </tr>\n",
       "    <tr>\n",
       "      <th>2 predictors</th>\n",
       "      <td>2</td>\n",
       "      <td>-3053.928432</td>\n",
       "      <td>3.153236</td>\n",
       "      <td>1207.355955</td>\n",
       "      <td>0.000000e+00</td>\n",
       "      <td>26.308713</td>\n",
       "      <td>32.222040</td>\n",
       "      <td>False</td>\n",
       "      <td>log</td>\n",
       "    </tr>\n",
       "  </tbody>\n",
       "</table>\n",
       "</div>"
      ],
      "text/plain": [
       "              rank     elpd_loo     p_loo    elpd_diff        weight  \\\n",
       "3 predictors     0 -1846.572477  3.942922     0.000000  1.000000e+00   \n",
       "1 predictor      1 -2343.299296  1.858655   496.726819  3.519314e-08   \n",
       "2 predictors     2 -3053.928432  3.153236  1207.355955  0.000000e+00   \n",
       "\n",
       "                     se        dse  warning scale  \n",
       "3 predictors  25.344621   0.000000    False   log  \n",
       "1 predictor   25.031182  25.781384    False   log  \n",
       "2 predictors  26.308713  32.222040    False   log  "
      ]
     },
     "execution_count": 30,
     "metadata": {},
     "output_type": "execute_result"
    }
   ],
   "source": [
    "compare_dict = {\"1 predictor\": samp_model3_1, \"2 predictors\": samp_model3_2, \"3 predictors\": samp_model3_3}\n",
    "model_comapre3_loo = az.compare(compare_dict, ic=\"loo\")\n",
    "model_comapre3_loo"
   ]
  },
  {
   "cell_type": "code",
   "execution_count": 31,
   "metadata": {},
   "outputs": [
    {
     "data": {
      "image/png": "[encoded data removed]",
      "text/plain": [
       "<Figure size 432x216 with 1 Axes>"
      ]
     },
     "metadata": {
      "needs_background": "light"
     },
     "output_type": "display_data"
    }
   ],
   "source": [
    "az.plot_compare(model_comapre3_loo)\n",
    "plt.show()"
   ]
  },
  {
   "cell_type": "code",
   "execution_count": 32,
   "metadata": {},
   "outputs": [
    {
     "data": {
      "text/html": [
       "<div>\n",
       "<style scoped>\n",
       "    .dataframe tbody tr th:only-of-type {\n",
       "        vertical-align: middle;\n",
       "    }\n",
       "\n",
       "    .dataframe tbody tr th {\n",
       "        vertical-align: top;\n",
       "    }\n",
       "\n",
       "    .dataframe thead th {\n",
       "        text-align: right;\n",
       "    }\n",
       "</style>\n",
       "<table border=\"1\" class=\"dataframe\">\n",
       "  <thead>\n",
       "    <tr style=\"text-align: right;\">\n",
       "      <th></th>\n",
       "      <th>rank</th>\n",
       "      <th>elpd_waic</th>\n",
       "      <th>p_waic</th>\n",
       "      <th>elpd_diff</th>\n",
       "      <th>weight</th>\n",
       "      <th>se</th>\n",
       "      <th>dse</th>\n",
       "      <th>warning</th>\n",
       "      <th>scale</th>\n",
       "    </tr>\n",
       "  </thead>\n",
       "  <tbody>\n",
       "    <tr>\n",
       "      <th>3 predictors</th>\n",
       "      <td>0</td>\n",
       "      <td>-1846.567055</td>\n",
       "      <td>3.937500</td>\n",
       "      <td>0.000000</td>\n",
       "      <td>1.000000e+00</td>\n",
       "      <td>25.344352</td>\n",
       "      <td>0.000000</td>\n",
       "      <td>False</td>\n",
       "      <td>log</td>\n",
       "    </tr>\n",
       "    <tr>\n",
       "      <th>1 predictor</th>\n",
       "      <td>1</td>\n",
       "      <td>-2343.297298</td>\n",
       "      <td>1.856657</td>\n",
       "      <td>496.730243</td>\n",
       "      <td>8.453278e-08</td>\n",
       "      <td>25.031072</td>\n",
       "      <td>25.781219</td>\n",
       "      <td>False</td>\n",
       "      <td>log</td>\n",
       "    </tr>\n",
       "    <tr>\n",
       "      <th>2 predictors</th>\n",
       "      <td>2</td>\n",
       "      <td>-3053.924230</td>\n",
       "      <td>3.149034</td>\n",
       "      <td>1207.357175</td>\n",
       "      <td>0.000000e+00</td>\n",
       "      <td>26.308477</td>\n",
       "      <td>32.221808</td>\n",
       "      <td>False</td>\n",
       "      <td>log</td>\n",
       "    </tr>\n",
       "  </tbody>\n",
       "</table>\n",
       "</div>"
      ],
      "text/plain": [
       "              rank    elpd_waic    p_waic    elpd_diff        weight  \\\n",
       "3 predictors     0 -1846.567055  3.937500     0.000000  1.000000e+00   \n",
       "1 predictor      1 -2343.297298  1.856657   496.730243  8.453278e-08   \n",
       "2 predictors     2 -3053.924230  3.149034  1207.357175  0.000000e+00   \n",
       "\n",
       "                     se        dse  warning scale  \n",
       "3 predictors  25.344352   0.000000    False   log  \n",
       "1 predictor   25.031072  25.781219    False   log  \n",
       "2 predictors  26.308477  32.221808    False   log  "
      ]
     },
     "execution_count": 32,
     "metadata": {},
     "output_type": "execute_result"
    }
   ],
   "source": [
    "model_comapre3_waic = az.compare(compare_dict, ic=\"waic\")\n",
    "model_comapre3_waic "
   ]
  },
  {
   "cell_type": "code",
   "execution_count": 33,
   "metadata": {},
   "outputs": [
    {
     "data": {
      "image/png": "[encoded data removed]",
      "text/plain": [
       "<Figure size 432x216 with 1 Axes>"
      ]
     },
     "metadata": {
      "needs_background": "light"
     },
     "output_type": "display_data"
    }
   ],
   "source": [
    "az.plot_compare(model_comapre3_waic)\n",
    "plt.show()"
   ]
  }
 ],
 "metadata": {
  "kernelspec": {
   "display_name": "Python 3",
   "language": "python",
   "name": "python3"
  },
  "language_info": {
   "codemirror_mode": {
    "name": "ipython",
    "version": 3
   },
   "file_extension": ".py",
   "mimetype": "text/x-python",
   "name": "python",
   "nbconvert_exporter": "python",
   "pygments_lexer": "ipython3",
   "version": "3.9.11"
  },
  "orig_nbformat": 4
 },
 "nbformat": 4,
 "nbformat_minor": 2
}
